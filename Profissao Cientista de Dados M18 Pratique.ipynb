{
 "cells": [
  {
   "cell_type": "markdown",
   "metadata": {
    "id": "Bct3LixAaZWG"
   },
   "source": [
    "# **MÓDULO 18 - Pratique**\n",
    "# Regressão Linear"
   ]
  },
  {
   "cell_type": "markdown",
   "metadata": {
    "id": "w4_W1qBlaeZc"
   },
   "source": [
    "Agora que aprendemos como aplicar a regressão linear simples e múltipla, colocaremos em prática os conceitos vistos na aula."
   ]
  },
  {
   "cell_type": "markdown",
   "metadata": {
    "id": "gGrc-SQQaleL"
   },
   "source": [
    "Temos aqui uma base de imóveis para alugar, precisamos desenvolver um modelo de regressão linear múltipla para conseguir prever o preço de imóveis dadas as variáveis independentes do nosso modelo."
   ]
  },
  {
   "cell_type": "markdown",
   "metadata": {
    "id": "2Fd536bSK7dK"
   },
   "source": []
  },
  {
   "cell_type": "markdown",
   "metadata": {
    "id": "ehrFPajR2uAN"
   },
   "source": [
    "**Atenção! Esse é seu primeiro modelo, caso tenha dificuldade conte com a ajuda da tutoria**\n",
    "\n",
    "Você notará que alguns códigos já estão presentes para facilitar a construção de vocês."
   ]
  },
  {
   "cell_type": "code",
   "execution_count": null,
   "metadata": {
    "id": "UYJv33ZAZ0QF"
   },
   "outputs": [],
   "source": [
    "import seaborn as sns\n",
    "import matplotlib.pyplot as plt\n",
    "import pandas as pd\n",
    "import plotly.express as px\n",
    "from sklearn.model_selection import train_test_split\n",
    "from sklearn.linear_model import LinearRegression\n",
    "import statsmodels.api as sm"
   ]
  },
  {
   "cell_type": "code",
   "execution_count": null,
   "metadata": {
    "colab": {
     "base_uri": "https://localhost:8080/",
     "height": 363
    },
    "id": "6fzdslDya3Ub",
    "outputId": "e385cfd4-5c01-4354-ad56-faf5fdf80c91"
   },
   "outputs": [
    {
     "data": {
      "application/vnd.google.colaboratory.intrinsic+json": {
       "summary": "{\n  \"name\": \"df\",\n  \"rows\": 7203,\n  \"fields\": [\n    {\n      \"column\": \"Valor_Aluguel\",\n      \"properties\": {\n        \"dtype\": \"number\",\n        \"std\": 2948,\n        \"min\": 480,\n        \"max\": 25000,\n        \"num_unique_values\": 463,\n        \"samples\": [\n          2285,\n          880,\n          930\n        ],\n        \"semantic_type\": \"\",\n        \"description\": \"\"\n      }\n    },\n    {\n      \"column\": \"Valor_Condominio\",\n      \"properties\": {\n        \"dtype\": \"number\",\n        \"std\": 796,\n        \"min\": 0,\n        \"max\": 9500,\n        \"num_unique_values\": 1186,\n        \"samples\": [\n          371,\n          1106,\n          3320\n        ],\n        \"semantic_type\": \"\",\n        \"description\": \"\"\n      }\n    },\n    {\n      \"column\": \"Metragem\",\n      \"properties\": {\n        \"dtype\": \"number\",\n        \"std\": 61,\n        \"min\": 30,\n        \"max\": 880,\n        \"num_unique_values\": 298,\n        \"samples\": [\n          175,\n          245,\n          420\n        ],\n        \"semantic_type\": \"\",\n        \"description\": \"\"\n      }\n    },\n    {\n      \"column\": \"N_Quartos\",\n      \"properties\": {\n        \"dtype\": \"number\",\n        \"std\": 0,\n        \"min\": 1,\n        \"max\": 10,\n        \"num_unique_values\": 8,\n        \"samples\": [\n          1,\n          10,\n          2\n        ],\n        \"semantic_type\": \"\",\n        \"description\": \"\"\n      }\n    },\n    {\n      \"column\": \"N_banheiros\",\n      \"properties\": {\n        \"dtype\": \"number\",\n        \"std\": 0,\n        \"min\": 1,\n        \"max\": 8,\n        \"num_unique_values\": 8,\n        \"samples\": [\n          1,\n          6,\n          2\n        ],\n        \"semantic_type\": \"\",\n        \"description\": \"\"\n      }\n    },\n    {\n      \"column\": \"N_Suites\",\n      \"properties\": {\n        \"dtype\": \"number\",\n        \"std\": 0,\n        \"min\": 0,\n        \"max\": 5,\n        \"num_unique_values\": 6,\n        \"samples\": [\n          1,\n          0,\n          5\n        ],\n        \"semantic_type\": \"\",\n        \"description\": \"\"\n      }\n    },\n    {\n      \"column\": \"N_Vagas\",\n      \"properties\": {\n        \"dtype\": \"number\",\n        \"std\": 0,\n        \"min\": 0,\n        \"max\": 9,\n        \"num_unique_values\": 10,\n        \"samples\": [\n          7,\n          0,\n          5\n        ],\n        \"semantic_type\": \"\",\n        \"description\": \"\"\n      }\n    }\n  ]\n}",
       "type": "dataframe",
       "variable_name": "df"
      },
      "text/html": [
       "\n",
       "  <div id=\"df-8d299916-df5f-4364-93dd-ecb73cab3f90\" class=\"colab-df-container\">\n",
       "    <div>\n",
       "<style scoped>\n",
       "    .dataframe tbody tr th:only-of-type {\n",
       "        vertical-align: middle;\n",
       "    }\n",
       "\n",
       "    .dataframe tbody tr th {\n",
       "        vertical-align: top;\n",
       "    }\n",
       "\n",
       "    .dataframe thead th {\n",
       "        text-align: right;\n",
       "    }\n",
       "</style>\n",
       "<table border=\"1\" class=\"dataframe\">\n",
       "  <thead>\n",
       "    <tr style=\"text-align: right;\">\n",
       "      <th></th>\n",
       "      <th>Valor_Aluguel</th>\n",
       "      <th>Valor_Condominio</th>\n",
       "      <th>Metragem</th>\n",
       "      <th>N_Quartos</th>\n",
       "      <th>N_banheiros</th>\n",
       "      <th>N_Suites</th>\n",
       "      <th>N_Vagas</th>\n",
       "    </tr>\n",
       "  </thead>\n",
       "  <tbody>\n",
       "    <tr>\n",
       "      <th>0</th>\n",
       "      <td>480</td>\n",
       "      <td>295</td>\n",
       "      <td>48</td>\n",
       "      <td>2</td>\n",
       "      <td>2</td>\n",
       "      <td>1</td>\n",
       "      <td>1</td>\n",
       "    </tr>\n",
       "    <tr>\n",
       "      <th>1</th>\n",
       "      <td>500</td>\n",
       "      <td>0</td>\n",
       "      <td>50</td>\n",
       "      <td>1</td>\n",
       "      <td>2</td>\n",
       "      <td>1</td>\n",
       "      <td>1</td>\n",
       "    </tr>\n",
       "    <tr>\n",
       "      <th>2</th>\n",
       "      <td>500</td>\n",
       "      <td>0</td>\n",
       "      <td>40</td>\n",
       "      <td>1</td>\n",
       "      <td>2</td>\n",
       "      <td>1</td>\n",
       "      <td>1</td>\n",
       "    </tr>\n",
       "    <tr>\n",
       "      <th>3</th>\n",
       "      <td>500</td>\n",
       "      <td>36</td>\n",
       "      <td>45</td>\n",
       "      <td>1</td>\n",
       "      <td>2</td>\n",
       "      <td>1</td>\n",
       "      <td>0</td>\n",
       "    </tr>\n",
       "    <tr>\n",
       "      <th>4</th>\n",
       "      <td>500</td>\n",
       "      <td>0</td>\n",
       "      <td>30</td>\n",
       "      <td>1</td>\n",
       "      <td>1</td>\n",
       "      <td>0</td>\n",
       "      <td>0</td>\n",
       "    </tr>\n",
       "    <tr>\n",
       "      <th>5</th>\n",
       "      <td>500</td>\n",
       "      <td>380</td>\n",
       "      <td>66</td>\n",
       "      <td>2</td>\n",
       "      <td>1</td>\n",
       "      <td>0</td>\n",
       "      <td>1</td>\n",
       "    </tr>\n",
       "    <tr>\n",
       "      <th>6</th>\n",
       "      <td>550</td>\n",
       "      <td>100</td>\n",
       "      <td>48</td>\n",
       "      <td>2</td>\n",
       "      <td>2</td>\n",
       "      <td>1</td>\n",
       "      <td>1</td>\n",
       "    </tr>\n",
       "    <tr>\n",
       "      <th>7</th>\n",
       "      <td>600</td>\n",
       "      <td>110</td>\n",
       "      <td>46</td>\n",
       "      <td>2</td>\n",
       "      <td>2</td>\n",
       "      <td>1</td>\n",
       "      <td>1</td>\n",
       "    </tr>\n",
       "    <tr>\n",
       "      <th>8</th>\n",
       "      <td>600</td>\n",
       "      <td>100</td>\n",
       "      <td>49</td>\n",
       "      <td>2</td>\n",
       "      <td>2</td>\n",
       "      <td>1</td>\n",
       "      <td>1</td>\n",
       "    </tr>\n",
       "    <tr>\n",
       "      <th>9</th>\n",
       "      <td>600</td>\n",
       "      <td>325</td>\n",
       "      <td>50</td>\n",
       "      <td>2</td>\n",
       "      <td>2</td>\n",
       "      <td>1</td>\n",
       "      <td>1</td>\n",
       "    </tr>\n",
       "  </tbody>\n",
       "</table>\n",
       "</div>\n",
       "    <div class=\"colab-df-buttons\">\n",
       "\n",
       "  <div class=\"colab-df-container\">\n",
       "    <button class=\"colab-df-convert\" onclick=\"convertToInteractive('df-8d299916-df5f-4364-93dd-ecb73cab3f90')\"\n",
       "            title=\"Convert this dataframe to an interactive table.\"\n",
       "            style=\"display:none;\">\n",
       "\n",
       "  <svg xmlns=\"http://www.w3.org/2000/svg\" height=\"24px\" viewBox=\"0 -960 960 960\">\n",
       "    <path d=\"M120-120v-720h720v720H120Zm60-500h600v-160H180v160Zm220 220h160v-160H400v160Zm0 220h160v-160H400v160ZM180-400h160v-160H180v160Zm440 0h160v-160H620v160ZM180-180h160v-160H180v160Zm440 0h160v-160H620v160Z\"/>\n",
       "  </svg>\n",
       "    </button>\n",
       "\n",
       "  <style>\n",
       "    .colab-df-container {\n",
       "      display:flex;\n",
       "      gap: 12px;\n",
       "    }\n",
       "\n",
       "    .colab-df-convert {\n",
       "      background-color: #E8F0FE;\n",
       "      border: none;\n",
       "      border-radius: 50%;\n",
       "      cursor: pointer;\n",
       "      display: none;\n",
       "      fill: #1967D2;\n",
       "      height: 32px;\n",
       "      padding: 0 0 0 0;\n",
       "      width: 32px;\n",
       "    }\n",
       "\n",
       "    .colab-df-convert:hover {\n",
       "      background-color: #E2EBFA;\n",
       "      box-shadow: 0px 1px 2px rgba(60, 64, 67, 0.3), 0px 1px 3px 1px rgba(60, 64, 67, 0.15);\n",
       "      fill: #174EA6;\n",
       "    }\n",
       "\n",
       "    .colab-df-buttons div {\n",
       "      margin-bottom: 4px;\n",
       "    }\n",
       "\n",
       "    [theme=dark] .colab-df-convert {\n",
       "      background-color: #3B4455;\n",
       "      fill: #D2E3FC;\n",
       "    }\n",
       "\n",
       "    [theme=dark] .colab-df-convert:hover {\n",
       "      background-color: #434B5C;\n",
       "      box-shadow: 0px 1px 3px 1px rgba(0, 0, 0, 0.15);\n",
       "      filter: drop-shadow(0px 1px 2px rgba(0, 0, 0, 0.3));\n",
       "      fill: #FFFFFF;\n",
       "    }\n",
       "  </style>\n",
       "\n",
       "    <script>\n",
       "      const buttonEl =\n",
       "        document.querySelector('#df-8d299916-df5f-4364-93dd-ecb73cab3f90 button.colab-df-convert');\n",
       "      buttonEl.style.display =\n",
       "        google.colab.kernel.accessAllowed ? 'block' : 'none';\n",
       "\n",
       "      async function convertToInteractive(key) {\n",
       "        const element = document.querySelector('#df-8d299916-df5f-4364-93dd-ecb73cab3f90');\n",
       "        const dataTable =\n",
       "          await google.colab.kernel.invokeFunction('convertToInteractive',\n",
       "                                                    [key], {});\n",
       "        if (!dataTable) return;\n",
       "\n",
       "        const docLinkHtml = 'Like what you see? Visit the ' +\n",
       "          '<a target=\"_blank\" href=https://colab.research.google.com/notebooks/data_table.ipynb>data table notebook</a>'\n",
       "          + ' to learn more about interactive tables.';\n",
       "        element.innerHTML = '';\n",
       "        dataTable['output_type'] = 'display_data';\n",
       "        await google.colab.output.renderOutput(dataTable, element);\n",
       "        const docLink = document.createElement('div');\n",
       "        docLink.innerHTML = docLinkHtml;\n",
       "        element.appendChild(docLink);\n",
       "      }\n",
       "    </script>\n",
       "  </div>\n",
       "\n",
       "\n",
       "<div id=\"df-6a1eaac6-ce01-4f4b-b9fc-f18dca68c748\">\n",
       "  <button class=\"colab-df-quickchart\" onclick=\"quickchart('df-6a1eaac6-ce01-4f4b-b9fc-f18dca68c748')\"\n",
       "            title=\"Suggest charts\"\n",
       "            style=\"display:none;\">\n",
       "\n",
       "<svg xmlns=\"http://www.w3.org/2000/svg\" height=\"24px\"viewBox=\"0 0 24 24\"\n",
       "     width=\"24px\">\n",
       "    <g>\n",
       "        <path d=\"M19 3H5c-1.1 0-2 .9-2 2v14c0 1.1.9 2 2 2h14c1.1 0 2-.9 2-2V5c0-1.1-.9-2-2-2zM9 17H7v-7h2v7zm4 0h-2V7h2v10zm4 0h-2v-4h2v4z\"/>\n",
       "    </g>\n",
       "</svg>\n",
       "  </button>\n",
       "\n",
       "<style>\n",
       "  .colab-df-quickchart {\n",
       "      --bg-color: #E8F0FE;\n",
       "      --fill-color: #1967D2;\n",
       "      --hover-bg-color: #E2EBFA;\n",
       "      --hover-fill-color: #174EA6;\n",
       "      --disabled-fill-color: #AAA;\n",
       "      --disabled-bg-color: #DDD;\n",
       "  }\n",
       "\n",
       "  [theme=dark] .colab-df-quickchart {\n",
       "      --bg-color: #3B4455;\n",
       "      --fill-color: #D2E3FC;\n",
       "      --hover-bg-color: #434B5C;\n",
       "      --hover-fill-color: #FFFFFF;\n",
       "      --disabled-bg-color: #3B4455;\n",
       "      --disabled-fill-color: #666;\n",
       "  }\n",
       "\n",
       "  .colab-df-quickchart {\n",
       "    background-color: var(--bg-color);\n",
       "    border: none;\n",
       "    border-radius: 50%;\n",
       "    cursor: pointer;\n",
       "    display: none;\n",
       "    fill: var(--fill-color);\n",
       "    height: 32px;\n",
       "    padding: 0;\n",
       "    width: 32px;\n",
       "  }\n",
       "\n",
       "  .colab-df-quickchart:hover {\n",
       "    background-color: var(--hover-bg-color);\n",
       "    box-shadow: 0 1px 2px rgba(60, 64, 67, 0.3), 0 1px 3px 1px rgba(60, 64, 67, 0.15);\n",
       "    fill: var(--button-hover-fill-color);\n",
       "  }\n",
       "\n",
       "  .colab-df-quickchart-complete:disabled,\n",
       "  .colab-df-quickchart-complete:disabled:hover {\n",
       "    background-color: var(--disabled-bg-color);\n",
       "    fill: var(--disabled-fill-color);\n",
       "    box-shadow: none;\n",
       "  }\n",
       "\n",
       "  .colab-df-spinner {\n",
       "    border: 2px solid var(--fill-color);\n",
       "    border-color: transparent;\n",
       "    border-bottom-color: var(--fill-color);\n",
       "    animation:\n",
       "      spin 1s steps(1) infinite;\n",
       "  }\n",
       "\n",
       "  @keyframes spin {\n",
       "    0% {\n",
       "      border-color: transparent;\n",
       "      border-bottom-color: var(--fill-color);\n",
       "      border-left-color: var(--fill-color);\n",
       "    }\n",
       "    20% {\n",
       "      border-color: transparent;\n",
       "      border-left-color: var(--fill-color);\n",
       "      border-top-color: var(--fill-color);\n",
       "    }\n",
       "    30% {\n",
       "      border-color: transparent;\n",
       "      border-left-color: var(--fill-color);\n",
       "      border-top-color: var(--fill-color);\n",
       "      border-right-color: var(--fill-color);\n",
       "    }\n",
       "    40% {\n",
       "      border-color: transparent;\n",
       "      border-right-color: var(--fill-color);\n",
       "      border-top-color: var(--fill-color);\n",
       "    }\n",
       "    60% {\n",
       "      border-color: transparent;\n",
       "      border-right-color: var(--fill-color);\n",
       "    }\n",
       "    80% {\n",
       "      border-color: transparent;\n",
       "      border-right-color: var(--fill-color);\n",
       "      border-bottom-color: var(--fill-color);\n",
       "    }\n",
       "    90% {\n",
       "      border-color: transparent;\n",
       "      border-bottom-color: var(--fill-color);\n",
       "    }\n",
       "  }\n",
       "</style>\n",
       "\n",
       "  <script>\n",
       "    async function quickchart(key) {\n",
       "      const quickchartButtonEl =\n",
       "        document.querySelector('#' + key + ' button');\n",
       "      quickchartButtonEl.disabled = true;  // To prevent multiple clicks.\n",
       "      quickchartButtonEl.classList.add('colab-df-spinner');\n",
       "      try {\n",
       "        const charts = await google.colab.kernel.invokeFunction(\n",
       "            'suggestCharts', [key], {});\n",
       "      } catch (error) {\n",
       "        console.error('Error during call to suggestCharts:', error);\n",
       "      }\n",
       "      quickchartButtonEl.classList.remove('colab-df-spinner');\n",
       "      quickchartButtonEl.classList.add('colab-df-quickchart-complete');\n",
       "    }\n",
       "    (() => {\n",
       "      let quickchartButtonEl =\n",
       "        document.querySelector('#df-6a1eaac6-ce01-4f4b-b9fc-f18dca68c748 button');\n",
       "      quickchartButtonEl.style.display =\n",
       "        google.colab.kernel.accessAllowed ? 'block' : 'none';\n",
       "    })();\n",
       "  </script>\n",
       "</div>\n",
       "\n",
       "    </div>\n",
       "  </div>\n"
      ],
      "text/plain": [
       "   Valor_Aluguel  Valor_Condominio  Metragem  N_Quartos  N_banheiros  \\\n",
       "0            480               295        48          2            2   \n",
       "1            500                 0        50          1            2   \n",
       "2            500                 0        40          1            2   \n",
       "3            500                36        45          1            2   \n",
       "4            500                 0        30          1            1   \n",
       "5            500               380        66          2            1   \n",
       "6            550               100        48          2            2   \n",
       "7            600               110        46          2            2   \n",
       "8            600               100        49          2            2   \n",
       "9            600               325        50          2            2   \n",
       "\n",
       "   N_Suites  N_Vagas  \n",
       "0         1        1  \n",
       "1         1        1  \n",
       "2         1        1  \n",
       "3         1        0  \n",
       "4         0        0  \n",
       "5         0        1  \n",
       "6         1        1  \n",
       "7         1        1  \n",
       "8         1        1  \n",
       "9         1        1  "
      ]
     },
     "execution_count": 2,
     "metadata": {},
     "output_type": "execute_result"
    }
   ],
   "source": [
    "df = pd.read_csv(\"ALUGUEL_MOD12.csv\", delimiter=';')\n",
    "\n",
    "df.head(10)"
   ]
  },
  {
   "cell_type": "markdown",
   "metadata": {
    "id": "Pkd-n1HadKFO"
   },
   "source": [
    "Legenda dos dados:\n",
    "\n",
    "*   **Valor_Aluguel** : valor Total pago no aluguel\n",
    "\n",
    "*   **Valor_Condominio** : Valor do Condomínio.\n",
    "\n",
    "*   **Metragem** : Metragem do Apartamento.\n",
    "\n",
    "*   **N_Quartos** : Número de Quartos do Imóvel.\n",
    "\n",
    "*   **N_banheiros** : Número de banheiros.\n",
    "\n",
    "*   **N_Suites** : Número de Suítes.\n",
    "\n",
    "*   **N_Vagas** : Número de Vagas."
   ]
  },
  {
   "cell_type": "markdown",
   "metadata": {
    "id": "vAWfnbqrdlko"
   },
   "source": [
    "# 1 - Realize a primeira etapa de pré processamento dos dados.\n",
    "\n",
    "A) Verifique os tipos de dados.\n",
    "\n",
    "\n",
    "B) Verifique os dados faltantes, se houver dados faltantes faça a substituição ou remoção justificando sua escolha."
   ]
  },
  {
   "cell_type": "code",
   "execution_count": null,
   "metadata": {
    "id": "oNPSvyFld-4C"
   },
   "outputs": [],
   "source": [
    "#Seu código aqui\n",
    "\n",
    "print(df.dtypes)\n",
    "\n",
    "print(df.isnull().sum())"
   ]
  },
  {
   "cell_type": "markdown",
   "metadata": {
    "id": "0_JSwysTeLti"
   },
   "source": [
    "# 2 - Realize a segunda etapa de pré processamento dos dados.\n",
    "\n",
    "A) Utilize a função describe para identificarmos outliers e verificarmos a distribuição dos dados.\n",
    "\n",
    "B) Caso note uma variável que te pareça conter outliers realiza a análise e tratamento desses dados, justificando a escolha do método utilizado.\n",
    "\n",
    "C) Realize a análise bivariada dos dados. Faça uso de pelo menos 3 gráficos e traga insights acerca do analisado."
   ]
  },
  {
   "cell_type": "code",
   "execution_count": null,
   "metadata": {
    "id": "mF5gICF0eLSu"
   },
   "outputs": [],
   "source": [
    "#Seu código aqui\n",
    "\n",
    "# A) Utilize a função describe para identificarmos outliers e verificarmos a distribuição dos dados.\n",
    "print(df.describe())\n",
    "\n",
    "# B) Caso note uma variável que te pareça conter outliers realiza a análise e tratamento desses dados, justificando a escolha do método utilizado.\n",
    "\n",
    "# Utilizando o método Box Plot para verificar se existe outliers para os valores dos aluguéis\n",
    "plt.figure(figsize=(10, 6))\n",
    "sns.boxplot(data=df,\n",
    "            y='Valor_Aluguel',\n",
    "            color='skyblue')\n",
    "plt.title('Box Plot para valor de alugueis')\n",
    "plt.ylabel('Valor_Aluguel')\n",
    "# plt.show()\n",
    "\n",
    "\n",
    "# Utilizando o método Box Plot para verificar se existe outliers para os valores dos condominios\n",
    "# A principio há condiminios com os valores zerados\n",
    "plt.figure(figsize=(10, 6))\n",
    "sns.boxplot(data=df,\n",
    "            y='Valor_Condominio',\n",
    "            color='skyblue')\n",
    "plt.title('Box Plot para valor dos condiminios')\n",
    "plt.ylabel('Valor_Condominio')\n",
    "# plt.show()\n",
    "\n",
    "\n",
    "# Utilizando o método Box Plot para verificar se existe outliers para a metragem\n",
    "plt.figure(figsize=(10, 6))\n",
    "sns.boxplot(data=df,\n",
    "            y='Metragem',\n",
    "            color='skyblue')\n",
    "plt.title('Box Plot para metragem')\n",
    "plt.ylabel('Metragem')\n",
    "# plt.show()\n",
    "\n",
    "# Verificando valores dos condominios\n",
    "count_val_cond = df['Valor_Condominio'].value_counts() # Contagem dos valores da coluna do valor_condominio\n",
    "# Calculando a porcentagem de valores de condominio\n",
    "percent_val_cond = (count_val_cond / count_val_cond.sum()) * 100\n",
    "# Buscando a porcentagem de valores zeros\n",
    "percent_zero = percent_val_cond.get(0, 0) # Vai retornar (0) zero se não encontrar nada\n",
    "print(f\"Porcentagem de registros com valor zero: {percent_zero:.2f}%\")\n",
    "# Foi encontrado apenas 8.86% de valores com o codomínio igual a zero, neste caso vou utilizar como premissa\n",
    "# que podem ser casas e não apartamentos.\n",
    "\n",
    "# C) Realize a análise bivariada dos dados. Faça uso de pelo menos 3 gráficos e traga insights acerca do analisado.\n",
    "\n",
    "# Metragem x Valor do condomínio\n",
    "mediana_metragem_valor_condominio = df.groupby('Metragem')['Valor_Condominio'].median().reset_index()\n",
    "\n",
    "fig = px.bar(mediana_metragem_valor_condominio,\n",
    "             x='Metragem',\n",
    "             y='Valor_Condominio',\n",
    "             title='Média de metragem por valor do condomínio',\n",
    "             labels={'Metragem': 'Metragem', 'Valor_Condominio': 'Valor do Condomínio'})\n",
    "fig.show()\n",
    "# Insight: imóveis com metragem maior podem estar inseridos em condomínios de padrão superior (com mais ou melhores serviços e áreas comuns)\n",
    "#  e, por isso, apresentar um valor de condomínio mais alto.\n",
    "# Imóveis com metragem elevada mas com condomínio baixo (ou vice-versa) podem indicar casos especiais, como:\n",
    "# Empreendimentos mais simples (mesmo com unidades grandes) ou condomínios premium (mesmo com unidades menores).\n",
    "\n",
    "\n",
    "# Metragem x Número de vagas\n",
    "mediana_metragem_n_vagas = df.groupby('Metragem')['N_Vagas'].median().reset_index()\n",
    "\n",
    "fig = px.bar(mediana_metragem_n_vagas,\n",
    "             x='Metragem',\n",
    "             y='N_Vagas',\n",
    "             title='Média de metragem por número de vagas',\n",
    "             labels={'Metragem': 'Metragem', 'N_Vagas': 'Número de vagas'})\n",
    "fig.show()\n",
    "\n",
    "# Imóveis com maior metragem, em geral, podem oferecer mais vagas, \n",
    "# pois costumam estar associados a unidades de maior padrão ou que atendem famílias com mais veículos.\n",
    "# Em áreas urbanas centrais, imóveis menores podem oferecer uma vaga devido à alta demanda, enquanto imóveis grandes em áreas mais suburbanas podem oferecer várias vagas.\n",
    "\n",
    "# N_banheiros x N_suites\n",
    "mediana_nbanheiro_nsuites = df.groupby('N_banheiros')['N_Suites'].median().reset_index()\n",
    "\n",
    "fig = px.bar(mediana_nbanheiro_nsuites,\n",
    "             x='N_banheiros',\n",
    "             y='N_Suites',\n",
    "             title='Média da quantidade de banheiros por suítes',\n",
    "             labels={'N_banheiros': 'Número de Banheiros', 'N_Suites': 'Número de Suítes'})\n",
    "fig.show()\n",
    "\n",
    "# Suítes são geralmente consideradas um diferencial de conforto e luxo, \n",
    "# pois incluem um banheiro privativo associado ao quarto. Imóveis com uma alta proporção de suítes em relação ao total de banheiros podem indicar um padrão superior.\n",
    "# Imóveis que oferecem mais banheiros do que suítes podem ter banheiros sociais, \n",
    "# o que é comum em residências familiares maiores. Isso pode indicar um foco em áreas comuns e áreas de convivência versus privacidade.\n"
   ]
  },
  {
   "cell_type": "markdown",
   "metadata": {
    "id": "4IYCHFPhgW0p"
   },
   "source": [
    "# 3 - Realize a terceira etapa de pré processamento dos dados.\n",
    "\n",
    "A) Comece pela correlação, que sabemos ser uma parte importante para nosso pré processamento e análise. Plote o gráfico ou a tabela e indique as variáveis que te parecem mais \"fortes\" na correlação para nosso modelo.\n",
    "\n",
    "\n"
   ]
  },
  {
   "cell_type": "code",
   "execution_count": null,
   "metadata": {
    "id": "AcQzYGGug3uI"
   },
   "outputs": [],
   "source": [
    "#Seu código aqui\n",
    "\n",
    "# Buscar as correlações mais fortes\n",
    "correlacao = df.corr()\n",
    "\n",
    "# Gráfico da correlação\n",
    "plt.figure(figsize=(10, 6))\n",
    "sns.heatmap(correlacao, annot=True, cmap='coolwarm', fmt='.2f')\n",
    "plt.title('Gráfico de correlação')\n",
    "# plt.show()\n",
    "\n",
    "# Metragem x Valor do condomínio\n",
    "# Metragem x Número de vagas\n",
    "# N_banheiros x N_suites"
   ]
  },
  {
   "cell_type": "markdown",
   "metadata": {
    "id": "h1SImppph54i"
   },
   "source": [
    "\n",
    "B) Durante a aula, por nossa base ser pequena e demonstrativa não realizamos a separação de treino e teste, porém para as atividades do dia dia temos que fazer, nesse exercício separe treino e teste.\n",
    "\n",
    "Lembre-se que primeiro separamos as variaveis dependentes X e depois Y, essa etapa deixarei para vocês abaixo:"
   ]
  },
  {
   "cell_type": "code",
   "execution_count": null,
   "metadata": {
    "id": "Mru_MQZeiPRE"
   },
   "outputs": [],
   "source": [
    "X = df.drop('Valor_Aluguel', axis=1) #Separando X - Todas variáveis exceto valor_aluguel\n",
    "y = df['Valor_Aluguel'] #Separando Y (Apenas variavel valor_aluguel)"
   ]
  },
  {
   "cell_type": "markdown",
   "metadata": {
    "id": "SrlKsnRw0qa4"
   },
   "source": [
    "Dica: Para separar em treino e teste usamos o train_test_split, como visto nas aulas de pré modelagem."
   ]
  },
  {
   "cell_type": "code",
   "execution_count": null,
   "metadata": {
    "id": "rgG6P6BKift7"
   },
   "outputs": [],
   "source": [
    "# Seu código aqui\n",
    "\n",
    "# Separando os dados em conjunto de treino e teste\n",
    "x_train, x_test, y_train, y_test = train_test_split(X, y, test_size=0.25, random_state=42)\n",
    "\n",
    "# Verificando o gabarito\n",
    "print(f\"Tamanho de x_train: {x_train.shape}\")\n",
    "print(f\"Tamanho de x_test: {x_test.shape}\")\n",
    "print(f\"Tamanho de y_train: {y_train.shape}\")\n",
    "print(f\"Tamanho de y_test: {y_test.shape}\")"
   ]
  },
  {
   "cell_type": "markdown",
   "metadata": {
    "id": "77TojDBwikJK"
   },
   "source": [
    "# 3 - Treine um modelo de regressão Linear simples\n",
    "\n",
    "A) Vamos utilizar apenas X_train e y_train para rodar um modelo de regressão linea simples e para isso usaremos apenas uma váriavel, a váriavel metragem."
   ]
  },
  {
   "cell_type": "code",
   "execution_count": null,
   "metadata": {
    "id": "eCdg676i2AuL"
   },
   "outputs": [],
   "source": [
    "X = x_train[['Metragem']]  # Variável independente (características)\n",
    "y = y_train  # Variável dependente (rótulo)\n",
    "# se você deu um nome diferente para x train e y train, altere no código."
   ]
  },
  {
   "cell_type": "code",
   "execution_count": null,
   "metadata": {
    "id": "jjtZ4SLxj7ia"
   },
   "outputs": [],
   "source": [
    "#Crie seu modelo aqui, usando LinearRegression e as bases de treino.\n",
    "\n",
    "regressao_metragem = LinearRegression()\n",
    "regressao_metragem.fit(X, y)"
   ]
  },
  {
   "cell_type": "markdown",
   "metadata": {
    "id": "_P87bqygj-6P"
   },
   "source": [
    "B) Plote o intercept_ e coef_ e monte de forma extensa a equação da reta."
   ]
  },
  {
   "cell_type": "code",
   "execution_count": null,
   "metadata": {
    "id": "mrxLgMRCj-bH"
   },
   "outputs": [],
   "source": [
    "#Seu código Aqui\n",
    "print(regressao_metragem.intercept_)\n",
    "print(regressao_metragem.coef_)"
   ]
  },
  {
   "cell_type": "markdown",
   "metadata": {
    "id": "oAC0rTgMkQg2"
   },
   "source": [
    "Nossa equação seria:  \n"
   ]
  },
  {
   "cell_type": "code",
   "execution_count": null,
   "metadata": {},
   "outputs": [],
   "source": [
    "print(f\"Equação da reta: y = {b:.2f} * Metragem + {a:.2f}\")"
   ]
  },
  {
   "cell_type": "markdown",
   "metadata": {
    "id": "xkLB1oIslsue"
   },
   "source": [
    "c) Calcule o R quadrado para o modelo de treinamento. Não esqueça de avaliar e trazer em formato de insight se esse resultado te parece bom ou não."
   ]
  },
  {
   "cell_type": "code",
   "execution_count": null,
   "metadata": {
    "id": "hxYyDUKPl5Pv"
   },
   "outputs": [],
   "source": [
    "#Seu código aqui\n",
    "\n",
    "# Avaliação do modelo\n",
    "print(regressao_metragem.score(X, y))\n",
    "\n",
    "# Nosso modelo consegue explicar 52% da variação observada na variável dependente com base nas variáveis independentes incluídas no modelo."
   ]
  },
  {
   "cell_type": "markdown",
   "metadata": {
    "id": "kEyD1z5al-us"
   },
   "source": [
    "D) Plote o gráfico da reta de regressão encontrada e traga insights acerca da dispersão dos pontos e ajuste da reta."
   ]
  },
  {
   "cell_type": "code",
   "execution_count": null,
   "metadata": {
    "id": "uNzpvfPzl-G2"
   },
   "outputs": [],
   "source": [
    "# Seu código aqui\n",
    "\n",
    "# Plotando a reta de regressão\n",
    "plt.plot(X, regressao_metragem.predict(X), color='red', label='Linha de Regressão')\n",
    "plt.legend()\n",
    "plt.show()"
   ]
  },
  {
   "cell_type": "markdown",
   "metadata": {
    "id": "Wobb2wkJmMTy"
   },
   "source": [
    "E) Para finalizar vamos aplicar o modelo a base de teste. Essa etapa é nova, então agora vocês avaliaram como o modelo treinado se saiu com a base de testes.\n",
    "Para isso altere no código abaixo o nome do seu modelo de regressão:"
   ]
  },
  {
   "cell_type": "code",
   "execution_count": null,
   "metadata": {
    "id": "TkWeqCSSm43Y"
   },
   "outputs": [],
   "source": [
    "X_test = x_test[['Metragem']]  # Variável independente (características)\n",
    "y_test = y_test  # Variável dependente (rótulo)"
   ]
  },
  {
   "cell_type": "code",
   "execution_count": null,
   "metadata": {
    "colab": {
     "base_uri": "https://localhost:8080/"
    },
    "id": "STQ56BJimwnB",
    "outputId": "9f83cc8c-f976-46c6-db04-fa413b265fc7"
   },
   "outputs": [
    {
     "name": "stdout",
     "output_type": "stream",
     "text": [
      "Coeficiente de Determinação (R²) nos Dados de Teste: 0.5651600449476675\n"
     ]
    }
   ],
   "source": [
    "# Usando o modelo treinado para fazer previsões sobre os dados de teste\n",
    "previsoes = regressao_metragem.predict(X_test)\n",
    "\n",
    "# Avaliando o desempenho do modelo usando métricas como o R²\n",
    "r2 = regressao_metragem.score(X_test, y_test)\n",
    "\n",
    "print(\"Coeficiente de Determinação (R²) nos Dados de Teste:\", r2)\n"
   ]
  },
  {
   "cell_type": "markdown",
   "metadata": {
    "id": "G85ffYcDnI2g"
   },
   "source": [
    "Se o valor do coeficiente de determinação (R²) para os dados de treinamento for melhor (ou seja, mais próximo de 1) do que o R² para os dados de teste, isso sugere que o modelo está superajustado aos dados de treinamento. Isso significa que o modelo pode estar se ajustando muito bem aos padrões específicos nos dados de treinamento, mas pode não generalizar bem para novos dados que não foram vistos durante o treinamento.\n",
    "\n",
    "Por outro lado, se o R² para os dados de teste for melhor do que o R² para os dados de treinamento, isso pode ser indicativo de que o modelo está subajustado. Isso significa que o modelo não está se ajustando adequadamente aos padrões nos dados de treinamento e não está capturando a relação entre as variáveis independentes e dependentes de forma eficaz.\n",
    "\n",
    "Idealmente, gostaríamos que o valor do R² fosse consistente entre os dados de treinamento e teste, indicando que o modelo é capaz de generalizar bem para novos dados. Se houver uma grande diferença entre os valores de R² para os dados de treinamento e teste, isso sugere que o modelo pode precisar de ajustes para melhorar sua capacidade de generalização."
   ]
  },
  {
   "cell_type": "markdown",
   "metadata": {
    "id": "A3jBA92CnYW2"
   },
   "source": [
    "F) Avalie com suas palavras o valor do r quadrado encontrado no treino e no teste."
   ]
  },
  {
   "cell_type": "markdown",
   "metadata": {
    "id": "HmzMUCkHtneW"
   },
   "source": [
    "O modelo foi um pouco melhor, agora ele consegue explicar 56% da vairiação observada um aumento não muito significativo, mas uma melhora já pode ajudar a explicar mais a variação dos dados."
   ]
  },
  {
   "cell_type": "markdown",
   "metadata": {
    "id": "QdoaCiZ5nlBU"
   },
   "source": [
    "# 4 - Aplicação do modelo de regressão linear multipla!\n",
    "\n",
    "A) Vamos refazer os passos anteriores porém para regressão multipla, com todas variáveis dependentes. Comece separando a base treino e teste, dessa vez com todas variáveis para X."
   ]
  },
  {
   "cell_type": "markdown",
   "metadata": {
    "id": "sajQpsBo2Yfm"
   },
   "source": [
    "Aqui é só refazer os passos do exercicio 3 porém ao invés de trazer para X apenas metragem, você deve trazer todas colunas (exceto a valor do aluguel)."
   ]
  },
  {
   "cell_type": "code",
   "execution_count": null,
   "metadata": {
    "id": "VWjL8sw-n5om"
   },
   "outputs": [],
   "source": [
    "# Regressão Linear Multipla\n",
    "\n",
    "# Separar as variáveis independentes da variável dependente (Trazendo as colunas exceto o valor do aluguel)\n",
    "\n",
    "X = df.drop('Valor_Aluguel', axis=1)\n",
    "y = df['Valor_Aluguel']"
   ]
  },
  {
   "cell_type": "markdown",
   "metadata": {
    "id": "Wh1i-TipoMA8"
   },
   "source": [
    "B) Faça o modelo de regressão linear multipla aplicado só a base de treino."
   ]
  },
  {
   "cell_type": "code",
   "execution_count": null,
   "metadata": {
    "id": "rVhYHDwBoWdi"
   },
   "outputs": [],
   "source": [
    "#seu código aqui\n",
    "\n",
    "X_train, X_test, y_train, y_test = train_test_split(X, y, test_size=0.25, random_state=42)\n",
    "\n",
    "regressao_multipla = LinearRegression()\n",
    "regressao_multipla.fit(X_train, y_train)\n"
   ]
  },
  {
   "cell_type": "markdown",
   "metadata": {
    "id": "fGdwOhEqocUq"
   },
   "source": [
    "C) Traga o valor do R quadrado e avalie o valor encontrado."
   ]
  },
  {
   "cell_type": "code",
   "execution_count": null,
   "metadata": {
    "colab": {
     "base_uri": "https://localhost:8080/"
    },
    "id": "NOdN7bnQobW-",
    "outputId": "ea7e2ff2-a8d1-4638-f395-b769129b796f"
   },
   "outputs": [
    {
     "data": {
      "text/plain": [
       "0.6072329037304596"
      ]
     },
     "execution_count": 31,
     "metadata": {},
     "output_type": "execute_result"
    }
   ],
   "source": [
    "#seu código aqui\n",
    "\n",
    "r2 = regressao_multipla.score(X, y)\n",
    "\n",
    "print(\"Coeficiente de Determinação (R²) nos Dados de Treino:\", r2)"
   ]
  },
  {
   "cell_type": "markdown",
   "metadata": {
    "id": "GOhG7Lv4onxE"
   },
   "source": [
    "D) Para finalizar aplique o modelo a base de teste e traga o r quadrado de teste.\n",
    "Dica: Você pode usar os códigos do exercício anterior."
   ]
  },
  {
   "cell_type": "code",
   "execution_count": null,
   "metadata": {
    "colab": {
     "base_uri": "https://localhost:8080/"
    },
    "id": "V8AZ-teGoutC",
    "outputId": "6f281237-4dbf-4921-fee3-a379afb212d6"
   },
   "outputs": [
    {
     "name": "stdout",
     "output_type": "stream",
     "text": [
      "Coeficiente de Determinação (R²) nos Dados de Teste: 0.6327633459161506\n"
     ]
    }
   ],
   "source": [
    "#seu código aqui\n",
    "\n",
    "regressao_multipla = LinearRegression()\n",
    "regressao_multipla.fit(X_test, y_test)\n",
    "\n",
    "r2 = regressao_multipla.score(X_test, y_test)\n",
    "print(\"Coeficiente de Determinação (R²) nos Dados de Teste:\", r2)"
   ]
  },
  {
   "cell_type": "markdown",
   "metadata": {
    "id": "zgS4MZwFo16J"
   },
   "source": [
    "E) Compare os r quadrados encontrados pela regressão linear e pela regressão múltipla. Qual modelo te parece melhor? Por qual motivo acredita que isso ocorreu?"
   ]
  },
  {
   "cell_type": "markdown",
   "metadata": {
    "id": "0yG6taLhtxWQ"
   },
   "source": [
    "Digite sua resposta aqui\n",
    "\n",
    "O modelo de regressão múltipla parece ser melhor com uma taxa de 60% e 63% nos dados de treino e testes respectivamente.\n",
    "\n",
    "Geralmente, ao adicionar mais preditores, o (R²) tende a aumentar (ou, no mínimo, não diminuir), pois o modelo passa a ter mais informações para explicar a variação, isso pode indicar que as variáveis adicionais estão contribuindo de forma relevante para explicar a variação da variável dependente."
   ]
  }
 ],
 "metadata": {
  "colab": {
   "provenance": []
  },
  "kernelspec": {
   "display_name": "Python 3",
   "name": "python3"
  },
  "language_info": {
   "name": "python"
  }
 },
 "nbformat": 4,
 "nbformat_minor": 0
}
